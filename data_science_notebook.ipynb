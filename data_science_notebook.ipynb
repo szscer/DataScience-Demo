{
  "nbformat": 4,
  "nbformat_minor": 0,
  "metadata": {
    "colab": {
      "provenance": [],
      "toc_visible": true,
      "authorship_tag": "ABX9TyMJeC2/2xgeF0g0XZW1WmbW",
      "include_colab_link": true
    },
    "kernelspec": {
      "name": "python3",
      "display_name": "Python 3"
    },
    "language_info": {
      "name": "python"
    }
  },
  "cells": [
    {
      "cell_type": "markdown",
      "metadata": {
        "id": "view-in-github",
        "colab_type": "text"
      },
      "source": [
        "<a href=\"https://colab.research.google.com/github/szscer/DataScience-Demo/blob/main/data_science_notebook.ipynb\" target=\"_parent\"><img src=\"https://colab.research.google.com/assets/colab-badge.svg\" alt=\"Open In Colab\"/></a>"
      ]
    },
    {
      "cell_type": "markdown",
      "source": [
        "##Ingest"
      ],
      "metadata": {
        "id": "dlziPoNd3AIG"
      }
    },
    {
      "cell_type": "code",
      "execution_count": null,
      "metadata": {
        "id": "9l6gj2HmtUdn"
      },
      "outputs": [],
      "source": []
    },
    {
      "cell_type": "markdown",
      "source": [],
      "metadata": {
        "id": "yZTXFUWV34FY"
      }
    },
    {
      "cell_type": "markdown",
      "source": [
        "##EDA"
      ],
      "metadata": {
        "id": "BFCgDT6b3b9W"
      }
    },
    {
      "cell_type": "code",
      "source": [],
      "metadata": {
        "id": "zHGSvEeT3dpx"
      },
      "execution_count": null,
      "outputs": []
    },
    {
      "cell_type": "markdown",
      "source": [
        "##Modeling"
      ],
      "metadata": {
        "id": "EpUdRERb3esz"
      }
    },
    {
      "cell_type": "markdown",
      "source": [
        "### Classification Algorithm A"
      ],
      "metadata": {
        "id": "umnssoxK4GQ6"
      }
    },
    {
      "cell_type": "code",
      "source": [],
      "metadata": {
        "id": "TcHqCMWe3hG8"
      },
      "execution_count": null,
      "outputs": []
    },
    {
      "cell_type": "markdown",
      "source": [
        "### Classification Algorithm B"
      ],
      "metadata": {
        "id": "1VniqnSL4Q3O"
      }
    },
    {
      "cell_type": "markdown",
      "source": [
        "##Conclusion"
      ],
      "metadata": {
        "id": "2Ysxkphi3lGx"
      }
    },
    {
      "cell_type": "code",
      "source": [],
      "metadata": {
        "id": "-VrLmm_a3oFD"
      },
      "execution_count": null,
      "outputs": []
    }
  ]
}